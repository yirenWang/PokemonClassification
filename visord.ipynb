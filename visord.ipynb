{
 "cells": [
  {
   "cell_type": "code",
   "execution_count": null,
   "metadata": {},
   "outputs": [],
   "source": [
    "import numpy as np\n",
    "import matplotlib.pyplot as plt\n",
    "import glob \n",
    "import cv2\n",
    "\n",
    "\n",
    "files = glob.glob(\"dataset/*/*.jpg\")\n",
    "\n",
    "### Create dictory of names to id correspondance\n",
    "# ! remember to change manually the names of Farfetche'd and MrMime for formating reasons\n",
    "name_id = {}\n",
    "id_name = {}\n",
    "for x in open(\"pokemon_id_name\").readlines():\n",
    "    y = x.split(\"\\t\")\n",
    "    if len(y) > 2 and str.isdigit(y[2]) :\n",
    "        name_id[x.split(\"\\t\")[0]] = int(x.split(\"\\t\")[2])\n",
    "        id_name[int(x.split(\"\\t\")[2])] = x.split(\"\\t\")[0]\n",
    "        \n"
   ]
  },
  {
   "cell_type": "code",
   "execution_count": null,
   "metadata": {},
   "outputs": [],
   "source": [
    "def read_img_src(src, color=True):\n",
    "    if color:\n",
    "        return cv2.imread(src)\n",
    "    return cv2.imread(src, 0)"
   ]
  },
  {
   "cell_type": "code",
   "execution_count": null,
   "metadata": {},
   "outputs": [],
   "source": [
    "def showMultiImage(imgs, descs=None, figsize=None, cmap=None, suptitle=\"\"):\n",
    "    if descs is None:\n",
    "        descs = [None] * len(imgs)\n",
    "    if isinstance(figsize, (int, float)):\n",
    "        figsize = (figsize, figsize)\n",
    "    plt.figure(figsize=figsize)\n",
    "    for i, img in enumerate(imgs):\n",
    "        plt.subplot(1, len(imgs), i+1)\n",
    "        rgb = cv2.cvtColor(img, cv2.COLOR_BGR2RGB)\n",
    "        plt.imshow(rgb, cmap=cmap)\n",
    "        plt.title(descs[i])\n",
    "        plt.axis('off')\n",
    "    plt.show()\n"
   ]
  },
  {
   "cell_type": "code",
   "execution_count": null,
   "metadata": {},
   "outputs": [],
   "source": [
    "def resize(img, size=100, interpolation=cv2.INTER_LINEAR):\n",
    "    return cv2.resize(img,(size, size))"
   ]
  },
  {
   "cell_type": "code",
   "execution_count": null,
   "metadata": {},
   "outputs": [],
   "source": [
    "# DATA Augmentation \n",
    "def rotateImage(img, angle):\n",
    "    print(img.shape)\n",
    "    rows,cols,color = img.shape\n",
    "    M = cv2.getRotationMatrix2D(((cols-1)/2.0,(rows-1)/2.0),angle,1)\n",
    "    return cv2.warpAffine(img,M,(cols,rows))\n",
    "\n",
    "def save_with_rotate(src):\n",
    "    img = read_img_src(src)\n",
    "    angles = [5, 10, 15, 20]\n",
    "    for i in angles:\n",
    "        prefix = \"no_background/\"\n",
    "        directory = prefix+src.split(\"/\")[1]\n",
    "        if not os.path.exists(directory):\n",
    "            os.makedirs(directory)\n",
    "        cv2.imwrite(prefix+src[8:], rotateImage(img=img, angle=i))\n"
   ]
  },
  {
   "cell_type": "code",
   "execution_count": null,
   "metadata": {},
   "outputs": [],
   "source": [
    "def similarity(h1, h2):\n",
    "    s = 0\n",
    "    for c in range(3):\n",
    "        s += cv2.compareHist(h1[c], h2[c], cv2.HISTCMP_BHATTACHARYYA)\n",
    "    return s"
   ]
  },
  {
   "cell_type": "code",
   "execution_count": null,
   "metadata": {},
   "outputs": [],
   "source": [
    "def kmeans_seg(img):\n",
    "    Z = img.reshape((-1,3))\n",
    "    # convert to np.float32\n",
    "    Z = np.float32(Z)\n",
    "    # define criteria, number of clusters(K) and apply kmeans()  \n",
    "    criteria = (cv2.TERM_CRITERIA_EPS + cv2.TERM_CRITERIA_MAX_ITER, 10, 1.0)\n",
    "    K = 4\n",
    "    ret,label,center=cv2.kmeans(Z,K,None,criteria,10,cv2.KMEANS_RANDOM_CENTERS) \n",
    "    # Now convert back into uint8, and make original image\n",
    "    center = np.uint8(center)\n",
    "    res = center[label.flatten()]\n",
    "    res2 = res.reshape((img.shape))\n",
    "    return res2\n",
    "\n",
    "def remove_background(img, seg_img):\n",
    "    res = img.copy()\n",
    "    # Take the color of the 4 corners and set all of thoses colors to zero\n",
    "    res[seg_img == seg_img[0][0]] = 0\n",
    "    res[seg_img == seg_img[-1][-1]] = 0\n",
    "    res[seg_img == seg_img[0][-1]] = 0\n",
    "    res[seg_img == seg_img[-1][0]] = 0\n",
    "    return res\n",
    "\n",
    "def histogramme(img, mask = None):\n",
    "    img = cv2.cvtColor(img, cv2.COLOR_BGR2HSV)\n",
    "    h = []\n",
    "    color = ('b','g','r')\n",
    "    for i,col in enumerate(color):\n",
    "        histr = cv2.calcHist([img],[i],mask,[256],[0,256])\n",
    "        #plt.plot(histr,color = col)\n",
    "        #plt.xlim([0,256])\n",
    "        h.append(histr)\n",
    "    #plt.show()\n",
    "    return h"
   ]
  },
  {
   "cell_type": "code",
   "execution_count": null,
   "metadata": {},
   "outputs": [],
   "source": [
    "train_imgs = []\n",
    "train_files = glob.glob(\"dataset_train/pokemon-a/*.png\")\n",
    "for f in train_files:\n",
    "    num = f.split(\"/\")[-1].split(\".\")[0]\n",
    "    if str.isdigit(num) and int(num) < 152:\n",
    "        train_imgs.append(f)"
   ]
  },
  {
   "cell_type": "code",
   "execution_count": null,
   "metadata": {},
   "outputs": [],
   "source": [
    "base_hist = [] # fix length 151, idx = pokemon_id - 1\n",
    "for src in train_imgs:\n",
    "    base = read_img_src(src)\n",
    "    base_hist.append(histogramme(base))\n",
    "len(base_hist)"
   ]
  },
  {
   "cell_type": "code",
   "execution_count": null,
   "metadata": {},
   "outputs": [],
   "source": [
    "def closest_img(src):\n",
    "    img = resize(read_img_src(src))\n",
    "    # remove background\n",
    "    img = remove_background(img, kmeans_seg(img))\n",
    "    # create hist\n",
    "    hist = histogramme(img)\n",
    "    # compare hist to all the base histogrammes\n",
    "    s = []\n",
    "    for i in range(len(base_hist)):\n",
    "        s.append(similarity(base_hist[i], hist))\n",
    "    # choose the highest sim\n",
    "    print(\"predicted\", id_name[s.index(max(s)) + 1], \"actual\", f.split('/')[1])\n",
    "    if id_name[s.index(max(s)) + 1] ==  f.split('/')[1]:\n",
    "        score += 1\n",
    "\n",
    "score = 0\n",
    "for f in files:\n",
    "    # read image\n",
    "    img = resize(read_img_src(f))\n",
    "    base_img = resize(read_img_src(\"dataset_train/pokemon-a/\" +  str(name_id[f.split('/')[1]]) + \".png\"))\n",
    "    # showMultiImage([img, base_img])\n",
    "    # remove background\n",
    "    img = remove_background(img, kmeans_seg(img))\n",
    "    # create hist\n",
    "    hist = histogramme(img)\n",
    "    # compare hist to all the base histogrammes\n",
    "    s = []\n",
    "    for i in range(len(base_hist)):\n",
    "        s.append(similarity(base_hist[i], hist))\n",
    "    # choose the highest sim\n",
    "    print(\"predicted\", id_name[s.index(max(s)) + 1], \"actual\", f.split('/')[1])\n",
    "    if id_name[s.index(max(s)) + 1] ==  f.split('/')[1]:\n",
    "        score += 1"
   ]
  },
  {
   "cell_type": "code",
   "execution_count": null,
   "metadata": {},
   "outputs": [],
   "source": [
    "# ML approach \n",
    "\n",
    "from sklearn.decomposition import PCA\n",
    "from sklearn.model_selection import train_test_split\n",
    "from sklearn.ensemble import RandomForestClassifier\n",
    "from sklearn.datasets import make_classification\n",
    "\n",
    "X = []\n",
    "Y = []\n",
    "for f in files: \n",
    "    Y.append(name_id[f.split('/')[1]])\n",
    "    X.append(resize(read_img_src(f, color=False), 50))\n",
    "    \n",
    "# flatten each line of X\n",
    "for i in range(len(X)):\n",
    "    X[i] = X[i].flatten()\n",
    "reudced_X = PCA().fit(X).transform(X)"
   ]
  },
  {
   "cell_type": "code",
   "execution_count": null,
   "metadata": {},
   "outputs": [],
   "source": [
    "X = np.array(X)\n",
    "X_train, X_test, y_train, y_test = train_test_split(X, np.array(Y), test_size=0.4, random_state=0)\n",
    "\n",
    "\n",
    "clf = RandomForestClassifier(n_estimators=100, max_depth=2, random_state=0)\n",
    "clf.fit(X, Y)\n",
    "\n",
    "y_pred = clf.predict(X_test)\n",
    "\n",
    "print(sum(y_pred == y_test))"
   ]
  },
  {
   "cell_type": "code",
   "execution_count": null,
   "metadata": {},
   "outputs": [],
   "source": []
  }
 ],
 "metadata": {
  "kernelspec": {
   "display_name": "cv",
   "language": "python",
   "name": "cv"
  },
  "language_info": {
   "codemirror_mode": {
    "name": "ipython",
    "version": 3
   },
   "file_extension": ".py",
   "mimetype": "text/x-python",
   "name": "python",
   "nbconvert_exporter": "python",
   "pygments_lexer": "ipython3",
   "version": "3.7.3"
  }
 },
 "nbformat": 4,
 "nbformat_minor": 2
}
