{
 "cells": [
  {
   "cell_type": "markdown",
   "metadata": {},
   "source": [
    "# CNN architectures\n",
    "\n"
   ]
  },
  {
   "cell_type": "code",
   "execution_count": 30,
   "metadata": {},
   "outputs": [],
   "source": [
    "import os\n",
    "import torch\n",
    "import torchvision\n",
    "import numpy as np\n",
    "from torchvision import datasets, transforms, models\n",
    "import torch.nn as nn\n",
    "import torch.optim as optim\n",
    "import torch.nn.functional as F\n",
    "from sklearn.model_selection import train_test_split"
   ]
  },
  {
   "cell_type": "code",
   "execution_count": 31,
   "metadata": {},
   "outputs": [],
   "source": [
    "# Set manual seeds\n",
    "torch.manual_seed(42)\n",
    "np.random.seed(42)"
   ]
  },
  {
   "cell_type": "code",
   "execution_count": 32,
   "metadata": {},
   "outputs": [],
   "source": [
    "NETWORK = 'resnet' # 'resnet'\n",
    "\n",
    "# Custom network params\n",
    "INPUT_CHANNELS = 3\n",
    "CONV1_CHANNELS = 6\n",
    "CONV1_KERNEL_SIZE = 5\n",
    "CONV2_CHANNELS = 16\n",
    "CONV2_KERNEL_SIZE = 5\n",
    "HIDDEN_LAYER1_SIZE = 256\n",
    "HIDDEN_LAYER2_SIZE = 120\n",
    "HIDDEN_LAYER3_SIZE = 84\n",
    "\n",
    "# Resnet params\n",
    "FINETUNING = True\n",
    "\n",
    "# Number of Pokémon to classify: all 1st generation Pokémon\n",
    "OUTPUT_LAYER_SIZE = 151\n",
    "\n",
    "OPTIM = 'SGD' # 'Adam'\n",
    "LR = 0.001\n",
    "MOMENTUM = 0.9\n",
    "\n",
    "MINIBATCH_SIZE = 32\n",
    "EPOCHS = 8"
   ]
  },
  {
   "cell_type": "code",
   "execution_count": 33,
   "metadata": {},
   "outputs": [
    {
     "name": "stdout",
     "output_type": "stream",
     "text": [
      "ResNet(\n",
      "  (conv1): Conv2d(3, 64, kernel_size=(7, 7), stride=(2, 2), padding=(3, 3), bias=False)\n",
      "  (bn1): BatchNorm2d(64, eps=1e-05, momentum=0.1, affine=True, track_running_stats=True)\n",
      "  (relu): ReLU(inplace)\n",
      "  (maxpool): MaxPool2d(kernel_size=3, stride=2, padding=1, dilation=1, ceil_mode=False)\n",
      "  (layer1): Sequential(\n",
      "    (0): BasicBlock(\n",
      "      (conv1): Conv2d(64, 64, kernel_size=(3, 3), stride=(1, 1), padding=(1, 1), bias=False)\n",
      "      (bn1): BatchNorm2d(64, eps=1e-05, momentum=0.1, affine=True, track_running_stats=True)\n",
      "      (relu): ReLU(inplace)\n",
      "      (conv2): Conv2d(64, 64, kernel_size=(3, 3), stride=(1, 1), padding=(1, 1), bias=False)\n",
      "      (bn2): BatchNorm2d(64, eps=1e-05, momentum=0.1, affine=True, track_running_stats=True)\n",
      "    )\n",
      "    (1): BasicBlock(\n",
      "      (conv1): Conv2d(64, 64, kernel_size=(3, 3), stride=(1, 1), padding=(1, 1), bias=False)\n",
      "      (bn1): BatchNorm2d(64, eps=1e-05, momentum=0.1, affine=True, track_running_stats=True)\n",
      "      (relu): ReLU(inplace)\n",
      "      (conv2): Conv2d(64, 64, kernel_size=(3, 3), stride=(1, 1), padding=(1, 1), bias=False)\n",
      "      (bn2): BatchNorm2d(64, eps=1e-05, momentum=0.1, affine=True, track_running_stats=True)\n",
      "    )\n",
      "  )\n",
      "  (layer2): Sequential(\n",
      "    (0): BasicBlock(\n",
      "      (conv1): Conv2d(64, 128, kernel_size=(3, 3), stride=(2, 2), padding=(1, 1), bias=False)\n",
      "      (bn1): BatchNorm2d(128, eps=1e-05, momentum=0.1, affine=True, track_running_stats=True)\n",
      "      (relu): ReLU(inplace)\n",
      "      (conv2): Conv2d(128, 128, kernel_size=(3, 3), stride=(1, 1), padding=(1, 1), bias=False)\n",
      "      (bn2): BatchNorm2d(128, eps=1e-05, momentum=0.1, affine=True, track_running_stats=True)\n",
      "      (downsample): Sequential(\n",
      "        (0): Conv2d(64, 128, kernel_size=(1, 1), stride=(2, 2), bias=False)\n",
      "        (1): BatchNorm2d(128, eps=1e-05, momentum=0.1, affine=True, track_running_stats=True)\n",
      "      )\n",
      "    )\n",
      "    (1): BasicBlock(\n",
      "      (conv1): Conv2d(128, 128, kernel_size=(3, 3), stride=(1, 1), padding=(1, 1), bias=False)\n",
      "      (bn1): BatchNorm2d(128, eps=1e-05, momentum=0.1, affine=True, track_running_stats=True)\n",
      "      (relu): ReLU(inplace)\n",
      "      (conv2): Conv2d(128, 128, kernel_size=(3, 3), stride=(1, 1), padding=(1, 1), bias=False)\n",
      "      (bn2): BatchNorm2d(128, eps=1e-05, momentum=0.1, affine=True, track_running_stats=True)\n",
      "    )\n",
      "  )\n",
      "  (layer3): Sequential(\n",
      "    (0): BasicBlock(\n",
      "      (conv1): Conv2d(128, 256, kernel_size=(3, 3), stride=(2, 2), padding=(1, 1), bias=False)\n",
      "      (bn1): BatchNorm2d(256, eps=1e-05, momentum=0.1, affine=True, track_running_stats=True)\n",
      "      (relu): ReLU(inplace)\n",
      "      (conv2): Conv2d(256, 256, kernel_size=(3, 3), stride=(1, 1), padding=(1, 1), bias=False)\n",
      "      (bn2): BatchNorm2d(256, eps=1e-05, momentum=0.1, affine=True, track_running_stats=True)\n",
      "      (downsample): Sequential(\n",
      "        (0): Conv2d(128, 256, kernel_size=(1, 1), stride=(2, 2), bias=False)\n",
      "        (1): BatchNorm2d(256, eps=1e-05, momentum=0.1, affine=True, track_running_stats=True)\n",
      "      )\n",
      "    )\n",
      "    (1): BasicBlock(\n",
      "      (conv1): Conv2d(256, 256, kernel_size=(3, 3), stride=(1, 1), padding=(1, 1), bias=False)\n",
      "      (bn1): BatchNorm2d(256, eps=1e-05, momentum=0.1, affine=True, track_running_stats=True)\n",
      "      (relu): ReLU(inplace)\n",
      "      (conv2): Conv2d(256, 256, kernel_size=(3, 3), stride=(1, 1), padding=(1, 1), bias=False)\n",
      "      (bn2): BatchNorm2d(256, eps=1e-05, momentum=0.1, affine=True, track_running_stats=True)\n",
      "    )\n",
      "  )\n",
      "  (layer4): Sequential(\n",
      "    (0): BasicBlock(\n",
      "      (conv1): Conv2d(256, 512, kernel_size=(3, 3), stride=(2, 2), padding=(1, 1), bias=False)\n",
      "      (bn1): BatchNorm2d(512, eps=1e-05, momentum=0.1, affine=True, track_running_stats=True)\n",
      "      (relu): ReLU(inplace)\n",
      "      (conv2): Conv2d(512, 512, kernel_size=(3, 3), stride=(1, 1), padding=(1, 1), bias=False)\n",
      "      (bn2): BatchNorm2d(512, eps=1e-05, momentum=0.1, affine=True, track_running_stats=True)\n",
      "      (downsample): Sequential(\n",
      "        (0): Conv2d(256, 512, kernel_size=(1, 1), stride=(2, 2), bias=False)\n",
      "        (1): BatchNorm2d(512, eps=1e-05, momentum=0.1, affine=True, track_running_stats=True)\n",
      "      )\n",
      "    )\n",
      "    (1): BasicBlock(\n",
      "      (conv1): Conv2d(512, 512, kernel_size=(3, 3), stride=(1, 1), padding=(1, 1), bias=False)\n",
      "      (bn1): BatchNorm2d(512, eps=1e-05, momentum=0.1, affine=True, track_running_stats=True)\n",
      "      (relu): ReLU(inplace)\n",
      "      (conv2): Conv2d(512, 512, kernel_size=(3, 3), stride=(1, 1), padding=(1, 1), bias=False)\n",
      "      (bn2): BatchNorm2d(512, eps=1e-05, momentum=0.1, affine=True, track_running_stats=True)\n",
      "    )\n",
      "  )\n",
      "  (avgpool): AvgPool2d(kernel_size=7, stride=1, padding=0)\n",
      "  (fc): Linear(in_features=512, out_features=151, bias=True)\n",
      ")\n"
     ]
    }
   ],
   "source": [
    "# Simple CNN based on MNIST example of the PyTorch documentation\n",
    "# Input images are of size 3x224x224\n",
    "class Net(nn.Module):\n",
    "    def __init__(self):\n",
    "        super(Net, self).__init__()\n",
    "        self.conv1 = nn.Conv2d(INPUT_CHANNELS, CONV1_CHANNELS, CONV1_KERNEL_SIZE)\n",
    "        self.pool = nn.MaxPool2d(2, 2)\n",
    "        self.conv2 = nn.Conv2d(CONV1_CHANNELS, CONV2_CHANNELS, CONV2_KERNEL_SIZE)\n",
    "        self.fc1 = nn.Linear(16*53*53, HIDDEN_LAYER1_SIZE)\n",
    "        self.fc2 = nn.Linear(HIDDEN_LAYER1_SIZE, HIDDEN_LAYER2_SIZE)\n",
    "        self.fc3 = nn.Linear(HIDDEN_LAYER2_SIZE, HIDDEN_LAYER3_SIZE)\n",
    "        self.fc4 = nn.Linear(HIDDEN_LAYER3_SIZE, OUTPUT_LAYER_SIZE)\n",
    "\n",
    "    def forward(self, x):\n",
    "        x = self.pool(F.relu(self.conv1(x)))\n",
    "        x = self.pool(F.relu(self.conv2(x)))\n",
    "        x = x.view(-1, 16*53*53)\n",
    "        x = F.relu(self.fc1(x))\n",
    "        x = F.relu(self.fc2(x))\n",
    "        x = F.relu(self.fc3(x))\n",
    "        x = self.fc4(x)\n",
    "        return x\n",
    "\n",
    "\n",
    "# Use GPU if available \n",
    "device = torch.device(\"cuda:0\" if torch.cuda.is_available() else \"cpu\")\n",
    "\n",
    "if NETWORK == 'resnet':\n",
    "    # Use resnet, modify the final layer to adapt to our classification problem\n",
    "    # with 151 classes\n",
    "    net = models.resnet18(pretrained=True)\n",
    "    net.fc = nn.Linear(in_features=net.fc.in_features, out_features=OUTPUT_LAYER_SIZE, bias=True)\n",
    "else:\n",
    "    # Use custom net\n",
    "    net = Net()\n",
    "\n",
    "net.to(device)\n",
    "print(net)"
   ]
  },
  {
   "cell_type": "code",
   "execution_count": 34,
   "metadata": {},
   "outputs": [
    {
     "name": "stdout",
     "output_type": "stream",
     "text": [
      "Training images: 5994\n",
      "Validation images: 1998\n",
      "Test images: 2665\n"
     ]
    }
   ],
   "source": [
    "# Colorwise means and std of ImageNet, used to train resnet\n",
    "mean = np.array([0.485, 0.456, 0.406])\n",
    "std = np.array([0.229, 0.224, 0.225])\n",
    "\n",
    "# Transforms to apply\n",
    "data_transforms = transforms.Compose([\n",
    "    transforms.Resize([224, 224]),\n",
    "    transforms.ToTensor(),\n",
    "    transforms.Normalize(mean=mean, std=std)\n",
    "])\n",
    "\n",
    "# The dataset should be in ./pokemon-generation-one\n",
    "# It can be downloaded from \n",
    "# https://www.kaggle.com/thedagger/pokemon-generation-one\n",
    "image_directory = \"./pokemon-generation-one\"\n",
    "dataset_full = datasets.ImageFolder(image_directory, data_transforms)\n",
    "loader_full = torch.utils.data.DataLoader(dataset_full,\n",
    "                                          batch_size=MINIBATCH_SIZE,\n",
    "                                          shuffle=True,\n",
    "                                          num_workers=4)\n",
    "\n",
    "# Split dataset into 3 sets, for train, val and test\n",
    "samples_train, samples_test = train_test_split(dataset_full.samples)\n",
    "samples_train, samples_val = train_test_split(samples_train)\n",
    "\n",
    "print(f\"Training images: {len(samples_train)}\")\n",
    "print(f\"Validation images: {len(samples_val)}\")\n",
    "print(f\"Test images: {len(samples_test)}\")\n",
    "\n",
    "\n",
    "dataset_train = datasets.ImageFolder(image_directory, data_transforms)\n",
    "dataset_train.samples = samples_train\n",
    "dataset_train.imgs = samples_train\n",
    "loader_train = torch.utils.data.DataLoader(dataset_train, \n",
    "                                           batch_size=MINIBATCH_SIZE, \n",
    "                                           shuffle=True, \n",
    "                                           num_workers=4)\n",
    "\n",
    "dataset_val = datasets.ImageFolder(image_directory, data_transforms)\n",
    "dataset_val.samples = samples_val\n",
    "dataset_val.imgs = samples_val\n",
    "loader_val = torch.utils.data.DataLoader(dataset_val, \n",
    "                                         batch_size=MINIBATCH_SIZE, \n",
    "                                         shuffle=True, \n",
    "                                         num_workers=4)\n",
    "\n",
    "dataset_test = datasets.ImageFolder(image_directory, data_transforms)\n",
    "dataset_test.samples = samples_test\n",
    "dataset_test.imgs = samples_test\n",
    "loader_test = torch.utils.data.DataLoader(dataset_test, \n",
    "                                          batch_size=MINIBATCH_SIZE, \n",
    "                                          shuffle=True, \n",
    "                                          num_workers=4)"
   ]
  },
  {
   "cell_type": "code",
   "execution_count": 35,
   "metadata": {},
   "outputs": [],
   "source": [
    "# Define loss and optimizer\n",
    "criterion = nn.CrossEntropyLoss()\n",
    "\n",
    "if NETWORK == 'resnet' and not FINETUNING:\n",
    "    params = net.fc.parameters()\n",
    "else:\n",
    "    params = net.parameters()\n",
    "\n",
    "if OPTIM == 'Adam':\n",
    "    optimizer = optim.Adam(params, lr=LR)\n",
    "else:\n",
    "    optimizer = optim.SGD(params, lr=LR, momentum=MOMENTUM)"
   ]
  },
  {
   "cell_type": "code",
   "execution_count": 36,
   "metadata": {
    "scrolled": true
   },
   "outputs": [],
   "source": [
    "# Training function\n",
    "# Calculates validation accuracy after each epoch\n",
    "def train_model(model, loader_train, loader_val, optimizer, criterion, n_epochs=5):\n",
    "    for epoch in range(n_epochs): # à chaque epochs\n",
    "        model.train()\n",
    "        running_loss = 0.0\n",
    "\n",
    "        print(f\"======= EPOCH {epoch+1} =======\")\n",
    "\n",
    "        for i, data in enumerate(loader_train):\n",
    "            inputs, labels = data\n",
    "            inputs, labels = inputs.to(device), labels.to(device)\n",
    "            \n",
    "            optimizer.zero_grad()\n",
    "            outputs = model(inputs)\n",
    "            \n",
    "            loss = criterion(outputs, labels)\n",
    "            running_loss += loss.item()\n",
    "\n",
    "            loss.backward()\n",
    "            optimizer.step()\n",
    "            if i % 10 == 9: # Print every 10 mini-batches\n",
    "                print(f\"Batches {i-8}-{i+1} loss: {running_loss/10:.3f}\")\n",
    "                running_loss = 0.0\n",
    "\n",
    "        # Evaluate validation loss\n",
    "        model.eval()\n",
    "        loss, accuracy = evaluate(net, loader_val)\n",
    "        print(f\"Accuracy: {100*accuracy:.1f}%\")  \n",
    "\n",
    "# Evaluation function\n",
    "def evaluate(model, loader):\n",
    "    avg_loss = 0.\n",
    "    avg_accuracy = 0\n",
    "    n_total = 0\n",
    "    \n",
    "    for data in loader:\n",
    "        inputs, labels = data\n",
    "        inputs, labels = inputs.to(device), labels.to(device)\n",
    "        outputs = model(inputs)\n",
    "\n",
    "        loss = criterion(outputs, labels)\n",
    "        _, preds = torch.max(outputs, 1)\n",
    "        n_correct = torch.sum(preds == labels)\n",
    "        \n",
    "        n_total += outputs.size()[0]\n",
    "        avg_loss += loss.item()\n",
    "        avg_accuracy += n_correct\n",
    "\n",
    "    return avg_loss / n_total, float(avg_accuracy) / n_total\n"
   ]
  },
  {
   "cell_type": "code",
   "execution_count": 39,
   "metadata": {
    "scrolled": true
   },
   "outputs": [
    {
     "name": "stdout",
     "output_type": "stream",
     "text": [
      "======= EPOCH 1 =======\n",
      "Batches 1-10 loss: 0.213\n",
      "Batches 11-20 loss: 0.226\n",
      "Batches 21-30 loss: 0.222\n",
      "Batches 31-40 loss: 0.223\n",
      "Batches 41-50 loss: 0.209\n",
      "Batches 51-60 loss: 0.238\n",
      "Batches 61-70 loss: 0.239\n",
      "Batches 71-80 loss: 0.221\n"
     ]
    },
    {
     "name": "stderr",
     "output_type": "stream",
     "text": [
      "/home/matto/Dev/DL/venv/lib/python3.6/site-packages/PIL/Image.py:969: UserWarning: Palette images with Transparency   expressed in bytes should be converted to RGBA images\n",
      "  'to RGBA images')\n"
     ]
    },
    {
     "name": "stdout",
     "output_type": "stream",
     "text": [
      "Batches 81-90 loss: 0.250\n"
     ]
    },
    {
     "name": "stderr",
     "output_type": "stream",
     "text": [
      "/home/matto/Dev/DL/venv/lib/python3.6/site-packages/PIL/Image.py:969: UserWarning: Palette images with Transparency   expressed in bytes should be converted to RGBA images\n",
      "  'to RGBA images')\n"
     ]
    },
    {
     "name": "stdout",
     "output_type": "stream",
     "text": [
      "Batches 91-100 loss: 0.202\n",
      "Batches 101-110 loss: 0.230\n",
      "Batches 111-120 loss: 0.233\n",
      "Batches 121-130 loss: 0.229\n",
      "Batches 131-140 loss: 0.221\n",
      "Batches 141-150 loss: 0.219\n"
     ]
    },
    {
     "name": "stderr",
     "output_type": "stream",
     "text": [
      "/home/matto/Dev/DL/venv/lib/python3.6/site-packages/PIL/Image.py:969: UserWarning: Palette images with Transparency   expressed in bytes should be converted to RGBA images\n",
      "  'to RGBA images')\n"
     ]
    },
    {
     "name": "stdout",
     "output_type": "stream",
     "text": [
      "Batches 151-160 loss: 0.254\n",
      "Batches 161-170 loss: 0.221\n",
      "Batches 171-180 loss: 0.246\n",
      "Accuracy: 79.2%\n",
      "======= EPOCH 2 =======\n",
      "Batches 1-10 loss: 0.151\n",
      "Batches 11-20 loss: 0.197\n"
     ]
    },
    {
     "name": "stderr",
     "output_type": "stream",
     "text": [
      "/home/matto/Dev/DL/venv/lib/python3.6/site-packages/PIL/Image.py:969: UserWarning: Palette images with Transparency   expressed in bytes should be converted to RGBA images\n",
      "  'to RGBA images')\n"
     ]
    },
    {
     "name": "stdout",
     "output_type": "stream",
     "text": [
      "Batches 21-30 loss: 0.200\n",
      "Batches 31-40 loss: 0.189\n",
      "Batches 41-50 loss: 0.184\n",
      "Batches 51-60 loss: 0.150\n",
      "Batches 61-70 loss: 0.189\n",
      "Batches 71-80 loss: 0.176\n",
      "Batches 81-90 loss: 0.192\n",
      "Batches 91-100 loss: 0.194\n",
      "Batches 101-110 loss: 0.195\n"
     ]
    },
    {
     "name": "stderr",
     "output_type": "stream",
     "text": [
      "/home/matto/Dev/DL/venv/lib/python3.6/site-packages/PIL/Image.py:969: UserWarning: Palette images with Transparency   expressed in bytes should be converted to RGBA images\n",
      "  'to RGBA images')\n"
     ]
    },
    {
     "name": "stdout",
     "output_type": "stream",
     "text": [
      "Batches 111-120 loss: 0.156\n",
      "Batches 121-130 loss: 0.180\n",
      "Batches 131-140 loss: 0.192\n",
      "Batches 141-150 loss: 0.203\n",
      "Batches 151-160 loss: 0.199\n",
      "Batches 161-170 loss: 0.200\n",
      "Batches 171-180 loss: 0.215\n",
      "Accuracy: 79.4%\n",
      "======= EPOCH 3 =======\n",
      "Batches 1-10 loss: 0.158\n"
     ]
    },
    {
     "name": "stderr",
     "output_type": "stream",
     "text": [
      "/home/matto/Dev/DL/venv/lib/python3.6/site-packages/PIL/Image.py:969: UserWarning: Palette images with Transparency   expressed in bytes should be converted to RGBA images\n",
      "  'to RGBA images')\n"
     ]
    },
    {
     "name": "stdout",
     "output_type": "stream",
     "text": [
      "Batches 11-20 loss: 0.144\n",
      "Batches 21-30 loss: 0.163\n",
      "Batches 31-40 loss: 0.140\n",
      "Batches 41-50 loss: 0.146\n",
      "Batches 51-60 loss: 0.165\n",
      "Batches 61-70 loss: 0.161\n",
      "Batches 71-80 loss: 0.157\n",
      "Batches 81-90 loss: 0.135\n"
     ]
    },
    {
     "name": "stderr",
     "output_type": "stream",
     "text": [
      "/home/matto/Dev/DL/venv/lib/python3.6/site-packages/PIL/Image.py:969: UserWarning: Palette images with Transparency   expressed in bytes should be converted to RGBA images\n",
      "  'to RGBA images')\n"
     ]
    },
    {
     "name": "stdout",
     "output_type": "stream",
     "text": [
      "Batches 91-100 loss: 0.168\n",
      "Batches 101-110 loss: 0.156\n",
      "Batches 111-120 loss: 0.153\n",
      "Batches 121-130 loss: 0.152\n",
      "Batches 131-140 loss: 0.170\n",
      "Batches 141-150 loss: 0.167\n",
      "Batches 151-160 loss: 0.156\n",
      "Batches 161-170 loss: 0.150\n"
     ]
    },
    {
     "name": "stderr",
     "output_type": "stream",
     "text": [
      "/home/matto/Dev/DL/venv/lib/python3.6/site-packages/PIL/Image.py:969: UserWarning: Palette images with Transparency   expressed in bytes should be converted to RGBA images\n",
      "  'to RGBA images')\n"
     ]
    },
    {
     "name": "stdout",
     "output_type": "stream",
     "text": [
      "Batches 171-180 loss: 0.168\n",
      "Accuracy: 79.5%\n",
      "======= EPOCH 4 =======\n",
      "Batches 1-10 loss: 0.147\n"
     ]
    },
    {
     "name": "stderr",
     "output_type": "stream",
     "text": [
      "/home/matto/Dev/DL/venv/lib/python3.6/site-packages/PIL/Image.py:969: UserWarning: Palette images with Transparency   expressed in bytes should be converted to RGBA images\n",
      "  'to RGBA images')\n"
     ]
    },
    {
     "name": "stdout",
     "output_type": "stream",
     "text": [
      "Batches 11-20 loss: 0.130\n",
      "Batches 21-30 loss: 0.132\n",
      "Batches 31-40 loss: 0.120\n",
      "Batches 41-50 loss: 0.132\n",
      "Batches 51-60 loss: 0.134\n",
      "Batches 61-70 loss: 0.131\n",
      "Batches 71-80 loss: 0.121\n",
      "Batches 81-90 loss: 0.134\n",
      "Batches 91-100 loss: 0.126\n",
      "Batches 101-110 loss: 0.139\n",
      "Batches 111-120 loss: 0.159\n",
      "Batches 121-130 loss: 0.148\n",
      "Batches 131-140 loss: 0.130\n",
      "Batches 141-150 loss: 0.132\n",
      "Batches 151-160 loss: 0.116\n",
      "Batches 161-170 loss: 0.160\n",
      "Batches 171-180 loss: 0.121\n"
     ]
    },
    {
     "name": "stderr",
     "output_type": "stream",
     "text": [
      "/home/matto/Dev/DL/venv/lib/python3.6/site-packages/PIL/Image.py:969: UserWarning: Palette images with Transparency   expressed in bytes should be converted to RGBA images\n",
      "  'to RGBA images')\n"
     ]
    },
    {
     "name": "stdout",
     "output_type": "stream",
     "text": [
      "Accuracy: 79.5%\n",
      "======= EPOCH 5 =======\n",
      "Batches 1-10 loss: 0.113\n",
      "Batches 11-20 loss: 0.112\n",
      "Batches 21-30 loss: 0.099\n",
      "Batches 31-40 loss: 0.102\n",
      "Batches 41-50 loss: 0.112\n"
     ]
    },
    {
     "name": "stderr",
     "output_type": "stream",
     "text": [
      "/home/matto/Dev/DL/venv/lib/python3.6/site-packages/PIL/Image.py:969: UserWarning: Palette images with Transparency   expressed in bytes should be converted to RGBA images\n",
      "  'to RGBA images')\n"
     ]
    },
    {
     "name": "stdout",
     "output_type": "stream",
     "text": [
      "Batches 51-60 loss: 0.114\n",
      "Batches 61-70 loss: 0.108\n"
     ]
    },
    {
     "name": "stderr",
     "output_type": "stream",
     "text": [
      "/home/matto/Dev/DL/venv/lib/python3.6/site-packages/PIL/Image.py:969: UserWarning: Palette images with Transparency   expressed in bytes should be converted to RGBA images\n",
      "  'to RGBA images')\n"
     ]
    },
    {
     "name": "stdout",
     "output_type": "stream",
     "text": [
      "Batches 71-80 loss: 0.095\n",
      "Batches 81-90 loss: 0.126\n",
      "Batches 91-100 loss: 0.108\n",
      "Batches 101-110 loss: 0.113\n",
      "Batches 111-120 loss: 0.111\n",
      "Batches 121-130 loss: 0.141\n",
      "Batches 131-140 loss: 0.112\n",
      "Batches 141-150 loss: 0.113\n",
      "Batches 151-160 loss: 0.129\n",
      "Batches 161-170 loss: 0.127\n"
     ]
    },
    {
     "name": "stderr",
     "output_type": "stream",
     "text": [
      "/home/matto/Dev/DL/venv/lib/python3.6/site-packages/PIL/Image.py:969: UserWarning: Palette images with Transparency   expressed in bytes should be converted to RGBA images\n",
      "  'to RGBA images')\n"
     ]
    },
    {
     "name": "stdout",
     "output_type": "stream",
     "text": [
      "Batches 171-180 loss: 0.108\n",
      "Accuracy: 79.5%\n",
      "======= EPOCH 6 =======\n",
      "Batches 1-10 loss: 0.104\n",
      "Batches 11-20 loss: 0.081\n",
      "Batches 21-30 loss: 0.107\n",
      "Batches 31-40 loss: 0.104\n",
      "Batches 41-50 loss: 0.101\n"
     ]
    },
    {
     "name": "stderr",
     "output_type": "stream",
     "text": [
      "/home/matto/Dev/DL/venv/lib/python3.6/site-packages/PIL/Image.py:969: UserWarning: Palette images with Transparency   expressed in bytes should be converted to RGBA images\n",
      "  'to RGBA images')\n"
     ]
    },
    {
     "name": "stdout",
     "output_type": "stream",
     "text": [
      "Batches 51-60 loss: 0.109\n",
      "Batches 61-70 loss: 0.096\n",
      "Batches 71-80 loss: 0.112\n",
      "Batches 81-90 loss: 0.080\n"
     ]
    },
    {
     "name": "stderr",
     "output_type": "stream",
     "text": [
      "/home/matto/Dev/DL/venv/lib/python3.6/site-packages/PIL/Image.py:969: UserWarning: Palette images with Transparency   expressed in bytes should be converted to RGBA images\n",
      "  'to RGBA images')\n"
     ]
    },
    {
     "name": "stdout",
     "output_type": "stream",
     "text": [
      "Batches 91-100 loss: 0.112\n",
      "Batches 101-110 loss: 0.121\n"
     ]
    },
    {
     "name": "stderr",
     "output_type": "stream",
     "text": [
      "/home/matto/Dev/DL/venv/lib/python3.6/site-packages/PIL/Image.py:969: UserWarning: Palette images with Transparency   expressed in bytes should be converted to RGBA images\n",
      "  'to RGBA images')\n"
     ]
    },
    {
     "name": "stdout",
     "output_type": "stream",
     "text": [
      "Batches 111-120 loss: 0.119\n",
      "Batches 121-130 loss: 0.102\n",
      "Batches 131-140 loss: 0.114\n",
      "Batches 141-150 loss: 0.104\n",
      "Batches 151-160 loss: 0.085\n",
      "Batches 161-170 loss: 0.099\n",
      "Batches 171-180 loss: 0.122\n",
      "Accuracy: 79.7%\n",
      "======= EPOCH 7 =======\n"
     ]
    },
    {
     "name": "stderr",
     "output_type": "stream",
     "text": [
      "/home/matto/Dev/DL/venv/lib/python3.6/site-packages/PIL/Image.py:969: UserWarning: Palette images with Transparency   expressed in bytes should be converted to RGBA images\n",
      "  'to RGBA images')\n",
      "/home/matto/Dev/DL/venv/lib/python3.6/site-packages/PIL/Image.py:969: UserWarning: Palette images with Transparency   expressed in bytes should be converted to RGBA images\n",
      "  'to RGBA images')\n"
     ]
    },
    {
     "name": "stdout",
     "output_type": "stream",
     "text": [
      "Batches 1-10 loss: 0.085\n",
      "Batches 11-20 loss: 0.104\n",
      "Batches 21-30 loss: 0.088\n",
      "Batches 31-40 loss: 0.082\n",
      "Batches 41-50 loss: 0.078\n",
      "Batches 51-60 loss: 0.090\n",
      "Batches 61-70 loss: 0.108\n",
      "Batches 71-80 loss: 0.106\n"
     ]
    },
    {
     "name": "stderr",
     "output_type": "stream",
     "text": [
      "/home/matto/Dev/DL/venv/lib/python3.6/site-packages/PIL/Image.py:969: UserWarning: Palette images with Transparency   expressed in bytes should be converted to RGBA images\n",
      "  'to RGBA images')\n"
     ]
    },
    {
     "name": "stdout",
     "output_type": "stream",
     "text": [
      "Batches 81-90 loss: 0.095\n",
      "Batches 91-100 loss: 0.089\n",
      "Batches 101-110 loss: 0.077\n",
      "Batches 111-120 loss: 0.101\n",
      "Batches 121-130 loss: 0.121\n",
      "Batches 131-140 loss: 0.090\n",
      "Batches 141-150 loss: 0.110\n",
      "Batches 151-160 loss: 0.086\n",
      "Batches 161-170 loss: 0.093\n",
      "Batches 171-180 loss: 0.095\n",
      "Accuracy: 80.7%\n",
      "======= EPOCH 8 =======\n"
     ]
    },
    {
     "name": "stderr",
     "output_type": "stream",
     "text": [
      "/home/matto/Dev/DL/venv/lib/python3.6/site-packages/PIL/Image.py:969: UserWarning: Palette images with Transparency   expressed in bytes should be converted to RGBA images\n",
      "  'to RGBA images')\n"
     ]
    },
    {
     "name": "stdout",
     "output_type": "stream",
     "text": [
      "Batches 1-10 loss: 0.077\n",
      "Batches 11-20 loss: 0.075\n",
      "Batches 21-30 loss: 0.094\n",
      "Batches 31-40 loss: 0.082\n",
      "Batches 41-50 loss: 0.074\n",
      "Batches 51-60 loss: 0.098\n",
      "Batches 61-70 loss: 0.079\n",
      "Batches 71-80 loss: 0.082\n",
      "Batches 81-90 loss: 0.082\n",
      "Batches 91-100 loss: 0.075\n",
      "Batches 101-110 loss: 0.099\n",
      "Batches 111-120 loss: 0.077\n",
      "Batches 121-130 loss: 0.084\n",
      "Batches 131-140 loss: 0.078\n",
      "Batches 141-150 loss: 0.084\n",
      "Batches 151-160 loss: 0.078\n"
     ]
    },
    {
     "name": "stderr",
     "output_type": "stream",
     "text": [
      "/home/matto/Dev/DL/venv/lib/python3.6/site-packages/PIL/Image.py:969: UserWarning: Palette images with Transparency   expressed in bytes should be converted to RGBA images\n",
      "  'to RGBA images')\n"
     ]
    },
    {
     "name": "stdout",
     "output_type": "stream",
     "text": [
      "Batches 161-170 loss: 0.093\n",
      "Batches 171-180 loss: 0.106\n",
      "Accuracy: 79.9%\n"
     ]
    }
   ],
   "source": [
    "# Train the model\n",
    "train_model(net, loader_train, loader_val, optimizer, criterion, n_epochs=EPOCHS)"
   ]
  },
  {
   "cell_type": "code",
   "execution_count": 28,
   "metadata": {},
   "outputs": [
    {
     "name": "stdout",
     "output_type": "stream",
     "text": [
      "Accuracy: 81.5%\n"
     ]
    }
   ],
   "source": [
    "# Evaluate the model on test set\n",
    "net.eval()\n",
    "loss, accuracy = evaluate(net, loader_test)\n",
    "print(f\"Accuracy: {100*accuracy:.1f}%\")"
   ]
  },
  {
   "cell_type": "code",
   "execution_count": null,
   "metadata": {},
   "outputs": [],
   "source": []
  }
 ],
 "metadata": {
  "kernelspec": {
   "display_name": "Python 3",
   "language": "python",
   "name": "python3"
  },
  "language_info": {
   "codemirror_mode": {
    "name": "ipython",
    "version": 3
   },
   "file_extension": ".py",
   "mimetype": "text/x-python",
   "name": "python",
   "nbconvert_exporter": "python",
   "pygments_lexer": "ipython3",
   "version": "3.6.7"
  }
 },
 "nbformat": 4,
 "nbformat_minor": 2
}
